{
 "cells": [
  {
   "cell_type": "code",
   "execution_count": 1,
   "metadata": {
    "scrolled": true
   },
   "outputs": [],
   "source": [
    "import math\n",
    "import os\n",
    "import nltk\n",
    "import string\n",
    "from collections import Counter\n",
    "from nltk.stem.porter import PorterStemmer\n",
    "from nltk.corpus import stopwords\n",
    "from sklearn.feature_extraction.text import TfidfVectorizer\n",
    "from sklearn.feature_extraction.text import CountVectorizer\n",
    "from sklearn.feature_extraction.text import TfidfTransformer\n",
    "from sklearn import feature_extraction\n",
    "\n",
    "with open('/Users/dudu/Documents/MyPython/sherlock/bery.txt') as lit:\n",
    "    temp = lit.readlines()\n",
    "    result1 = \" \".join(temp)\n",
    "    \n",
    "with open('/Users/dudu/Documents/MyPython/sherlock/blue.txt') as lit:\n",
    "    temp = lit.readlines()\n",
    "    result2 = \" \".join(temp)\n",
    "    \n",
    "with open('/Users/dudu/Documents/MyPython/sherlock/bosc.txt') as lit:\n",
    "    temp = lit.readlines()\n",
    "    result3 = \" \".join(temp)\n",
    "\n",
    "with open('/Users/dudu/Documents/MyPython/sherlock/copp.txt') as lit:\n",
    "    temp = lit.readlines()\n",
    "    result4 = \" \".join(temp)\n",
    "\n",
    "with open('/Users/dudu/Documents/MyPython/sherlock/engr.txt') as lit:\n",
    "    temp = lit.readlines()\n",
    "    result5 = \" \".join(temp)\n",
    "\n",
    "with open('/Users/dudu/Documents/MyPython/sherlock/five.txt') as lit:\n",
    "    temp = lit.readlines()\n",
    "    result6 = \" \".join(temp)\n",
    "\n",
    "with open('/Users/dudu/Documents/MyPython/sherlock/iden.txt') as lit:\n",
    "    temp = lit.readlines()\n",
    "    result7 = \" \".join(temp)\n",
    "\n",
    "with open('/Users/dudu/Documents/MyPython/sherlock/nobi.txt') as lit:\n",
    "    temp = lit.readlines()\n",
    "    result8 = \" \".join(temp)\n",
    "\n",
    "with open('/Users/dudu/Documents/MyPython/sherlock/redh.txt') as lit:\n",
    "    temp = lit.readlines()\n",
    "    result9 = \" \".join(temp)\n",
    "\n",
    "with open('/Users/dudu/Documents/MyPython/sherlock/scan.txt') as lit:\n",
    "    temp = lit.readlines()\n",
    "    result10 = \" \".join(temp)\n",
    "\n",
    "with open('/Users/dudu/Documents/MyPython/sherlock/spec.txt') as lit:\n",
    "    temp = lit.readlines()\n",
    "    result11 = \" \".join(temp)\n",
    "    \n",
    "with open('/Users/dudu/Documents/MyPython/sherlock/twis.txt') as lit:\n",
    "    temp = lit.readlines()\n",
    "    result12 = \" \".join(temp)\n",
    "    \n"
   ]
  },
  {
   "cell_type": "code",
   "execution_count": 2,
   "metadata": {},
   "outputs": [
    {
     "name": "stdout",
     "output_type": "stream",
     "text": [
      "647178\n"
     ]
    }
   ],
   "source": [
    "# 计算数据集原始大小\n",
    "sum = len(result1)+len(result2)+len(result3)+len(result4)+len(result5)+len(result6)+len(result7)+len(result8)\n",
    "sum = sum + len(result9) +len(result10)+len(result11)+len(result12)\n",
    "print sum"
   ]
  },
  {
   "cell_type": "code",
   "execution_count": 3,
   "metadata": {},
   "outputs": [],
   "source": [
    "#文档预处理\n",
    "def get_tokens(text):\n",
    "    lower = text.lower()\n",
    "    tokens = nltk.word_tokenize(lower.translate(None,string.punctuation))\n",
    "    filtered = [w for w in tokens if not w in stopwords.words('english')]\n",
    "    return filtered\n",
    "\n",
    "aa = \" \".join(get_tokens(result1))\n",
    "bb = \" \".join(get_tokens(result2))\n",
    "cc = \" \".join(get_tokens(result3))\n",
    "dd = \" \".join(get_tokens(result4))\n",
    "ee = \" \".join(get_tokens(result5))\n",
    "ff = \" \".join(get_tokens(result6))\n",
    "gg = \" \".join(get_tokens(result7))\n",
    "hh = \" \".join(get_tokens(result8))\n",
    "ii = \" \".join(get_tokens(result9))\n",
    "jj = \" \".join(get_tokens(result10))\n",
    "kk = \" \".join(get_tokens(result11))\n",
    "ll = \" \".join(get_tokens(result12))"
   ]
  },
  {
   "cell_type": "code",
   "execution_count": 4,
   "metadata": {},
   "outputs": [],
   "source": [
    "#合并处理结果\n",
    "results = [aa,bb,cc,dd,ee,ff,gg,hh,ii,jj,kk,ll]\n",
    "docNum = len(results)"
   ]
  },
  {
   "cell_type": "code",
   "execution_count": 5,
   "metadata": {},
   "outputs": [
    {
     "name": "stdout",
     "output_type": "stream",
     "text": [
      "8288\n",
      "term frequency in each doc\n",
      "[[0 0 5 ... 0 0 0]\n",
      " [0 1 1 ... 0 0 1]\n",
      " [0 0 0 ... 0 0 0]\n",
      " ...\n",
      " [0 0 0 ... 0 0 0]\n",
      " [0 0 1 ... 0 1 0]\n",
      " [0 0 1 ... 0 0 0]]\n"
     ]
    }
   ],
   "source": [
    "vectorizer = CountVectorizer()\n",
    "x = vectorizer.fit_transform(results)\n",
    "word = vectorizer.get_feature_names()\n",
    "\n",
    "print len(word) \n",
    "print \"term frequency in each doc\"\n",
    "print x.toarray()"
   ]
  },
  {
   "cell_type": "code",
   "execution_count": 6,
   "metadata": {},
   "outputs": [
    {
     "name": "stdout",
     "output_type": "stream",
     "text": [
      "tfidf for each word in each doc\n",
      "[[0.         0.         0.04212841 ... 0.         0.         0.        ]\n",
      " [0.         0.01102865 0.00874441 ... 0.         0.         0.01284176]\n",
      " [0.         0.         0.         ... 0.         0.         0.        ]\n",
      " ...\n",
      " [0.         0.         0.         ... 0.         0.         0.        ]\n",
      " [0.         0.         0.00810754 ... 0.         0.01190648 0.        ]\n",
      " [0.         0.         0.00838016 ... 0.         0.         0.        ]]\n"
     ]
    }
   ],
   "source": [
    "transformer = TfidfTransformer()\n",
    "tfidf = transformer.fit_transform(x)\n",
    "tfidf_array = tfidf.toarray()\n",
    "print \"tfidf for each word in each doc\" \n",
    "print tfidf_array"
   ]
  },
  {
   "cell_type": "code",
   "execution_count": 7,
   "metadata": {},
   "outputs": [
    {
     "name": "stdout",
     "output_type": "stream",
     "text": [
      "detective: [0.0, 0.015858, 0.006769, 0.0, 0.0, 0.0, 0.0, 0.007282, 0.014445, 0.0, 0.007352, 0.0]\n",
      "case: [0.056013, 0.035773, 0.07635, 0.015163, 0.004991, 0.059173, 0.048503, 0.032856, 0.02444, 0.039792, 0.033168, 0.051425]\n",
      "story: [0.045256, 0.005219, 0.017821, 0.013272, 0.034951, 0.018834, 0.0, 0.009586, 0.014261, 0.005805, 0.0, 0.010003]\n",
      "thrilling: [0.012374, 0.0, 0.0, 0.0, 0.0, 0.0, 0.0, 0.0, 0.0, 0.0, 0.0, 0.0]\n",
      "funny: [0.0, 0.0, 0.0, 0.006722, 0.0, 0.0, 0.017201, 0.0, 0.014445, 0.00882, 0.0, 0.007599]\n",
      "die: [0.0, 0.0, 0.009415, 0.0, 0.0, 0.0, 0.0, 0.0, 0.0, 0.012268, 0.0, 0.0]\n",
      "guilty: [0.009387, 0.0, 0.008317, 0.0, 0.0, 0.01172, 0.0, 0.0, 0.0, 0.0, 0.0, 0.0]\n",
      "detail: [0.0, 0.0, 0.0, 0.0, 0.008851, 0.009539, 0.0, 0.007282, 0.007223, 0.0, 0.007352, 0.0]\n",
      "motive: [0.0, 0.0, 0.0, 0.0, 0.0, 0.0, 0.010567, 0.008948, 0.017749, 0.0, 0.0, 0.0]\n",
      "solve: [0.0, 0.007929, 0.0, 0.006722, 0.0, 0.009539, 0.008601, 0.014565, 0.0, 0.0, 0.0, 0.0]\n",
      "victim: [0.0, 0.0, 0.0, 0.008259, 0.0, 0.023439, 0.0, 0.0, 0.0, 0.0, 0.018065, 0.0]\n",
      "kill: [0.0, 0.012842, 0.0, 0.0, 0.0, 0.0, 0.0, 0.0, 0.0, 0.0, 0.0, 0.0]\n",
      "smart: [0.0, 0.0, 0.0, 0.0, 0.0, 0.0, 0.0, 0.0, 0.010046, 0.012268, 0.0, 0.0]\n"
     ]
    }
   ],
   "source": [
    "#提取query里每一个单词的tf-idf值\n",
    "from collections import defaultdict\n",
    "query = \"smart detective thrilling story detail solve case funny guilty motive die kill victim\"\n",
    "queryList = query.split()\n",
    "queryResults = defaultdict(list)\n",
    "for query in queryList:\n",
    "    if query in word:\n",
    "        index = word.index(query)\n",
    "        for i in range(0, docNum):\n",
    "            queryResults[query].append(round(tfidf_array[i][index],6))\n",
    "    else:\n",
    "        queryResults[query].append(\"--\")\n",
    "for item in queryResults:\n",
    "    print \"{}: {}\".format(item, queryResults[item])\n"
   ]
  },
  {
   "cell_type": "code",
   "execution_count": 9,
   "metadata": {},
   "outputs": [
    {
     "name": "stdout",
     "output_type": "stream",
     "text": [
      "defaultdict(<type 'float'>, {1: 0.12303, 2: 0.077621, 3: 0.118672, 4: 0.050138, 5: 0.048793, 6: 0.132244, 7: 0.084872, 8: 0.080519, 9: 0.102609, 10: 0.078953, 11: 0.065937, 12: 0.069027})\n"
     ]
    },
    {
     "data": {
      "image/png": "[encoded data removed]",
      "text/plain": [
       "<Figure size 432x288 with 1 Axes>"
      ]
     },
     "metadata": {},
     "output_type": "display_data"
    }
   ],
   "source": [
    "#计算idf score并用柱状图显示\n",
    "idf_score = defaultdict(float)\n",
    "for i in range(0,docNum):\n",
    "    temp = 0\n",
    "    for key in queryResults:\n",
    "        temp += queryResults[key][i]\n",
    "        idf_score[i+1] = (round(temp,6))\n",
    "print idf_score\n",
    "\n",
    "import matplotlib.pyplot as plt\n",
    "%matplotlib inline\n",
    "y = idf_score.values()\n",
    "x = idf_score.keys()\n",
    "docList = ['doc1','doc2','doc3','doc4','doc5','doc6','doc7','doc8','doc9','doc10','doc11','doc12',] \n",
    "plt.bar(x, y, width = 0.3, tick_label = docList, fc = '#9999ff')\n",
    "plt.xticks(x, size='medium',rotation=30)\n",
    "for a,b in zip(x,y):\n",
    "    plt.text(a, b, '%.3f' %b, ha='center', va= 'bottom',fontsize=8)\n",
    "plt.show()"
   ]
  },
  {
   "cell_type": "code",
   "execution_count": 10,
   "metadata": {},
   "outputs": [
    {
     "name": "stdout",
     "output_type": "stream",
     "text": [
      "6013\n",
      "['smart', u'detect', u'thrill', u'stori', 'detail', u'solv', 'case', u'funni', u'guilti', u'motiv', 'die', 'kill', 'victim']\n",
      "case: 133\n",
      "detect: 8\n",
      "thrill: 2\n",
      "die: 25\n",
      "detail: 26\n",
      "funni: 7\n",
      "stori: 37\n",
      "motiv: 7\n",
      "victim: 5\n",
      "solv: 15\n",
      "kill: 5\n",
      "guilti: 3\n",
      "smart: 3\n"
     ]
    }
   ],
   "source": [
    "#计算tf值\n",
    "from collections import Counter\n",
    "def tf(term, count):\n",
    "    tf = 0\n",
    "    if term in count:\n",
    "        tf = count[term]\n",
    "    return tf\n",
    "tf_str = result1 + result2 + result3 + result4+ result5 + result6+ result7 + result8+ result9 + result10+ result11 + result12\n",
    "temp = get_tokens(tf_str)\n",
    "def stemmed(tokens, stemmer):\n",
    "    stemmed = []\n",
    "    for t in tokens:\n",
    "        stemmed.append(stemmer.stem(t))\n",
    "    return stemmed\n",
    "\n",
    "tf_count = Counter(stemmed(temp, PorterStemmer()))\n",
    "print len(tf_count)\n",
    "queryS = []\n",
    "for query in queryList:\n",
    "    queryS.append(PorterStemmer().stem(query))\n",
    "print queryS\n",
    "\n",
    "queryTF = defaultdict(int)\n",
    "for query in queryS:\n",
    "    queryTF[query] = tf(query, tf_count)\n",
    "for item in queryTF:\n",
    "    print \"{}: {}\".format(item,queryTF[item])"
   ]
  },
  {
   "cell_type": "code",
   "execution_count": 11,
   "metadata": {},
   "outputs": [
    {
     "name": "stdout",
     "output_type": "stream",
     "text": [
      "[('said', 486), ('upon', 464), (u'holm', 460), ('one', 380), ('would', 327), ('mr', 318), ('man', 301), ('could', 286), (u'littl', 269), ('see', 264)]\n"
     ]
    }
   ],
   "source": [
    "print tf_count.most_common(10)"
   ]
  },
  {
   "cell_type": "code",
   "execution_count": 12,
   "metadata": {},
   "outputs": [
    {
     "name": "stdout",
     "output_type": "stream",
     "text": [
      "12\n"
     ]
    }
   ],
   "source": [
    "#计算idf值\n",
    "resultList = [result1,result2,result3,result4,result5,result6,result7,result8,result9,result10,result11,result12]\n",
    "resultL = [result1,result2,result3]\n",
    "def count_term(text):\n",
    "    tokens = get_tokens(text)\n",
    "    stemming = stemmed(tokens,PorterStemmer())\n",
    "    count = Counter(stemming)\n",
    "    return count\n",
    "count_list = []\n",
    "for r in resultList:\n",
    "    count_list.append(count_term(r))\n",
    "print len(count_list)    "
   ]
  },
  {
   "cell_type": "code",
   "execution_count": 13,
   "metadata": {},
   "outputs": [
    {
     "name": "stdout",
     "output_type": "stream",
     "text": [
      "case: 12\n",
      "detect: 5\n",
      "thrill: 2\n",
      "die: 5\n",
      "detail: 11\n",
      "funni: 5\n",
      "stori: 10\n",
      "motiv: 6\n",
      "victim: 3\n",
      "solv: 8\n",
      "kill: 5\n",
      "guilti: 3\n",
      "smart: 3\n"
     ]
    }
   ],
   "source": [
    "#计算idf值继续\n",
    "def idf(term,count_list):\n",
    "    idf = 0\n",
    "    for count in count_list:\n",
    "        if term in count:\n",
    "            idf += 1\n",
    "    return idf\n",
    "idf_result = defaultdict(int)\n",
    "for query in queryS:\n",
    "    idf_result[query] = idf(query, count_list)\n",
    "for item in idf_result:\n",
    "    print \"{}: {}\".format(item, idf_result[item])\n",
    "        "
   ]
  },
  {
   "cell_type": "code",
   "execution_count": null,
   "metadata": {},
   "outputs": [],
   "source": []
  },
  {
   "cell_type": "code",
   "execution_count": null,
   "metadata": {},
   "outputs": [],
   "source": []
  },
  {
   "cell_type": "code",
   "execution_count": null,
   "metadata": {},
   "outputs": [],
   "source": []
  }
 ],
 "metadata": {
  "kernelspec": {
   "display_name": "Python 2",
   "language": "python",
   "name": "python2"
  },
  "language_info": {
   "codemirror_mode": {
    "name": "ipython",
    "version": 2
   },
   "file_extension": ".py",
   "mimetype": "text/x-python",
   "name": "python",
   "nbconvert_exporter": "python",
   "pygments_lexer": "ipython2",
   "version": "2.7.15"
  }
 },
 "nbformat": 4,
 "nbformat_minor": 2
}
